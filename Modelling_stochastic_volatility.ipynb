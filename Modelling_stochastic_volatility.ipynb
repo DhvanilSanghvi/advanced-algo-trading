{
  "nbformat": 4,
  "nbformat_minor": 0,
  "metadata": {
    "colab": {
      "name": "Modelling stochastic volatility.ipynb",
      "provenance": [],
      "authorship_tag": "ABX9TyPIjIaOzZNgYG3iEI/oKUu6",
      "include_colab_link": true
    },
    "kernelspec": {
      "name": "python3",
      "display_name": "Python 3"
    }
  },
  "cells": [
    {
      "cell_type": "markdown",
      "metadata": {
        "id": "view-in-github",
        "colab_type": "text"
      },
      "source": [
        "<a href=\"https://colab.research.google.com/github/DhvanilSanghvi/advanced-algo-trading/blob/master/Modelling_stochastic_volatility.ipynb\" target=\"_parent\"><img src=\"https://colab.research.google.com/assets/colab-badge.svg\" alt=\"Open In Colab\"/></a>"
      ]
    },
    {
      "cell_type": "code",
      "metadata": {
        "id": "Zi41Voe0zCa2",
        "colab_type": "code",
        "colab": {}
      },
      "source": [
        "# pymc3_bayes_stochastic_vol.py\n",
        "import datetime\n",
        "import pprint\n",
        "import matplotlib.pyplot as plt\n",
        "import numpy as np\n",
        "import pandas as pd\n",
        "import pandas_datareader as pdr\n",
        "import pymc3 as pm\n",
        "from pymc3.distributions.timeseries import GaussianRandomWalk\n",
        "import seaborn as sns\n"
      ],
      "execution_count": 3,
      "outputs": []
    },
    {
      "cell_type": "code",
      "metadata": {
        "id": "TIkdQ6H3zq0G",
        "colab_type": "code",
        "colab": {}
      },
      "source": [
        "def obtain_plot_amazon_prices_dataframe(start_date, end_date):\n",
        "  \"\"\"\n",
        "  Download, calculate and plot the AMZN logarithmic returns.\n",
        "  \"\"\"\n",
        "  print(\"Downloading and plotting AMZN log returns...\")\n",
        "  amzn = pdr.get_data_yahoo(\"AMZN\", start_date, end_date)\n",
        "  amzn[\"returns\"] = amzn[\"Adj Close\"]/amzn[\"Adj Close\"].shift(1)\n",
        "  amzn.dropna(inplace=True)\n",
        "  amzn[\"log_returns\"] = np.log(amzn[\"returns\"])\n",
        "  amzn[\"log_returns\"].plot(linewidth=0.5)\n",
        "  plt.ylabel(\"AMZN daily percentage returns\")\n",
        "  plt.show()\n",
        "  return amzn"
      ],
      "execution_count": 5,
      "outputs": []
    },
    {
      "cell_type": "code",
      "metadata": {
        "id": "Nb4bFPE-0QRc",
        "colab_type": "code",
        "colab": {
          "base_uri": "https://localhost:8080/",
          "height": 701
        },
        "outputId": "1ca4a577-5813-4355-af24-7e4a883f2206"
      },
      "source": [
        "obtain_plot_amazon_prices_dataframe('01-01-2006', '01-01-2020')"
      ],
      "execution_count": 8,
      "outputs": [
        {
          "output_type": "stream",
          "text": [
            "Downloading and plotting AMZN log returns...\n"
          ],
          "name": "stdout"
        },
        {
          "output_type": "display_data",
          "data": {
            "image/png": "[encoded data removed]",
            "text/plain": [
              "<Figure size 432x288 with 1 Axes>"
            ]
          },
          "metadata": {
            "tags": [],
            "needs_background": "light"
          }
        },
        {
          "output_type": "execute_result",
          "data": {
            "text/html": [
              "<div>\n",
              "<style scoped>\n",
              "    .dataframe tbody tr th:only-of-type {\n",
              "        vertical-align: middle;\n",
              "    }\n",
              "\n",
              "    .dataframe tbody tr th {\n",
              "        vertical-align: top;\n",
              "    }\n",
              "\n",
              "    .dataframe thead th {\n",
              "        text-align: right;\n",
              "    }\n",
              "</style>\n",
              "<table border=\"1\" class=\"dataframe\">\n",
              "  <thead>\n",
              "    <tr style=\"text-align: right;\">\n",
              "      <th></th>\n",
              "      <th>High</th>\n",
              "      <th>Low</th>\n",
              "      <th>Open</th>\n",
              "      <th>Close</th>\n",
              "      <th>Volume</th>\n",
              "      <th>Adj Close</th>\n",
              "      <th>returns</th>\n",
              "      <th>log_returns</th>\n",
              "    </tr>\n",
              "    <tr>\n",
              "      <th>Date</th>\n",
              "      <th></th>\n",
              "      <th></th>\n",
              "      <th></th>\n",
              "      <th></th>\n",
              "      <th></th>\n",
              "      <th></th>\n",
              "      <th></th>\n",
              "      <th></th>\n",
              "    </tr>\n",
              "  </thead>\n",
              "  <tbody>\n",
              "    <tr>\n",
              "      <th>2006-01-04</th>\n",
              "      <td>47.730000</td>\n",
              "      <td>46.689999</td>\n",
              "      <td>47.490002</td>\n",
              "      <td>47.250000</td>\n",
              "      <td>7440900</td>\n",
              "      <td>47.250000</td>\n",
              "      <td>0.993064</td>\n",
              "      <td>-0.006960</td>\n",
              "    </tr>\n",
              "    <tr>\n",
              "      <th>2006-01-05</th>\n",
              "      <td>48.200001</td>\n",
              "      <td>47.110001</td>\n",
              "      <td>47.160000</td>\n",
              "      <td>47.650002</td>\n",
              "      <td>5417200</td>\n",
              "      <td>47.650002</td>\n",
              "      <td>1.008466</td>\n",
              "      <td>0.008430</td>\n",
              "    </tr>\n",
              "    <tr>\n",
              "      <th>2006-01-06</th>\n",
              "      <td>48.580002</td>\n",
              "      <td>47.320000</td>\n",
              "      <td>47.970001</td>\n",
              "      <td>47.869999</td>\n",
              "      <td>6152900</td>\n",
              "      <td>47.869999</td>\n",
              "      <td>1.004617</td>\n",
              "      <td>0.004606</td>\n",
              "    </tr>\n",
              "    <tr>\n",
              "      <th>2006-01-09</th>\n",
              "      <td>47.099998</td>\n",
              "      <td>46.400002</td>\n",
              "      <td>46.549999</td>\n",
              "      <td>47.080002</td>\n",
              "      <td>8943100</td>\n",
              "      <td>47.080002</td>\n",
              "      <td>0.983497</td>\n",
              "      <td>-0.016641</td>\n",
              "    </tr>\n",
              "    <tr>\n",
              "      <th>2006-01-10</th>\n",
              "      <td>46.750000</td>\n",
              "      <td>45.360001</td>\n",
              "      <td>46.410000</td>\n",
              "      <td>45.650002</td>\n",
              "      <td>9686100</td>\n",
              "      <td>45.650002</td>\n",
              "      <td>0.969626</td>\n",
              "      <td>-0.030845</td>\n",
              "    </tr>\n",
              "    <tr>\n",
              "      <th>...</th>\n",
              "      <td>...</td>\n",
              "      <td>...</td>\n",
              "      <td>...</td>\n",
              "      <td>...</td>\n",
              "      <td>...</td>\n",
              "      <td>...</td>\n",
              "      <td>...</td>\n",
              "      <td>...</td>\n",
              "    </tr>\n",
              "    <tr>\n",
              "      <th>2019-12-24</th>\n",
              "      <td>1795.569946</td>\n",
              "      <td>1787.579956</td>\n",
              "      <td>1793.810059</td>\n",
              "      <td>1789.209961</td>\n",
              "      <td>881300</td>\n",
              "      <td>1789.209961</td>\n",
              "      <td>0.997886</td>\n",
              "      <td>-0.002116</td>\n",
              "    </tr>\n",
              "    <tr>\n",
              "      <th>2019-12-26</th>\n",
              "      <td>1870.459961</td>\n",
              "      <td>1799.500000</td>\n",
              "      <td>1801.010010</td>\n",
              "      <td>1868.770020</td>\n",
              "      <td>6005400</td>\n",
              "      <td>1868.770020</td>\n",
              "      <td>1.044467</td>\n",
              "      <td>0.043506</td>\n",
              "    </tr>\n",
              "    <tr>\n",
              "      <th>2019-12-27</th>\n",
              "      <td>1901.400024</td>\n",
              "      <td>1866.010010</td>\n",
              "      <td>1882.920044</td>\n",
              "      <td>1869.800049</td>\n",
              "      <td>6186600</td>\n",
              "      <td>1869.800049</td>\n",
              "      <td>1.000551</td>\n",
              "      <td>0.000551</td>\n",
              "    </tr>\n",
              "    <tr>\n",
              "      <th>2019-12-30</th>\n",
              "      <td>1884.000000</td>\n",
              "      <td>1840.619995</td>\n",
              "      <td>1874.000000</td>\n",
              "      <td>1846.890015</td>\n",
              "      <td>3674700</td>\n",
              "      <td>1846.890015</td>\n",
              "      <td>0.987747</td>\n",
              "      <td>-0.012328</td>\n",
              "    </tr>\n",
              "    <tr>\n",
              "      <th>2019-12-31</th>\n",
              "      <td>1853.260010</td>\n",
              "      <td>1832.229980</td>\n",
              "      <td>1842.000000</td>\n",
              "      <td>1847.839966</td>\n",
              "      <td>2506500</td>\n",
              "      <td>1847.839966</td>\n",
              "      <td>1.000514</td>\n",
              "      <td>0.000514</td>\n",
              "    </tr>\n",
              "  </tbody>\n",
              "</table>\n",
              "<p>3522 rows × 8 columns</p>\n",
              "</div>"
            ],
            "text/plain": [
              "                   High          Low  ...   returns  log_returns\n",
              "Date                                  ...                       \n",
              "2006-01-04    47.730000    46.689999  ...  0.993064    -0.006960\n",
              "2006-01-05    48.200001    47.110001  ...  1.008466     0.008430\n",
              "2006-01-06    48.580002    47.320000  ...  1.004617     0.004606\n",
              "2006-01-09    47.099998    46.400002  ...  0.983497    -0.016641\n",
              "2006-01-10    46.750000    45.360001  ...  0.969626    -0.030845\n",
              "...                 ...          ...  ...       ...          ...\n",
              "2019-12-24  1795.569946  1787.579956  ...  0.997886    -0.002116\n",
              "2019-12-26  1870.459961  1799.500000  ...  1.044467     0.043506\n",
              "2019-12-27  1901.400024  1866.010010  ...  1.000551     0.000551\n",
              "2019-12-30  1884.000000  1840.619995  ...  0.987747    -0.012328\n",
              "2019-12-31  1853.260010  1832.229980  ...  1.000514     0.000514\n",
              "\n",
              "[3522 rows x 8 columns]"
            ]
          },
          "metadata": {
            "tags": []
          },
          "execution_count": 8
        }
      ]
    },
    {
      "cell_type": "code",
      "metadata": {
        "id": "WGnT7Pes0e_m",
        "colab_type": "code",
        "colab": {
          "base_uri": "https://localhost:8080/",
          "height": 357
        },
        "outputId": "e811c218-8a00-4b19-8787-b24587eda340"
      },
      "source": [
        "def configure_sample_stoch_vol_model(log_returns, samples):\n",
        "  \"\"\"\n",
        "  Configure the stochastic volatility model using PyMC3\n",
        "  in a ’with’ context. Then sample from the model using\n",
        "  the No-U-Turn-Sampler (NUTS).\n",
        "  Plot the logarithmic volatility process and then the\n",
        "  absolute returns overlaid with the estimated vol.\n",
        "  \"\"\"\n",
        "  print(\"Configuring stochastic volatility with PyMC3...\")\n",
        "  model = pm.Model()\n",
        "  with model:\n",
        "    sigma = pm.Exponential('sigma', 50.0, testval=0.1)\n",
        "    nu = pm.Exponential('nu', 0.1)\n",
        "    s = GaussianRandomWalk('s', sigma**-2, shape=len(log_returns))\n",
        "    logrets = pm.StudentT(\n",
        "      'logrets', nu,\n",
        "      lam=pm.math.exp(-2.0*s),\n",
        "      observed=log_returns\n",
        "    )\n",
        "  print(\"Fitting the stochastic volatility model...\")\n",
        "  with model:\n",
        "    trace = pm.sample(samples)\n",
        "  pm.traceplot(trace, model.vars[:-1])\n",
        "  plt.show()\n",
        "  print(\"Plotting the log volatility...\")\n",
        "  k = 10\n",
        "  opacity = 0.03\n",
        "  plt.plot(trace[s][::k].T,'b', alpha=opacity)\n",
        "  plt.xlabel('Time')\n",
        "  plt.ylabel('Log Volatility')\n",
        "  plt.show()\n",
        "  print(\"Plotting the absolute returns overlaid with vol...\")\n",
        "  plt.plot(np.abs(np.exp(log_returns))-1.0, linewidth=0.5)\n",
        "  plt.plot(np.exp(trace[s][::k].T), 'r', alpha=opacity)\n",
        "  plt.xlabel(\"Trading Days\")\n",
        "  plt.ylabel(\"Absolute Returns/Volatility\")\n",
        "  plt.show()\n",
        "\n",
        "if __name__ == \"__main__\":\n",
        "  # State the starting and ending dates of the AMZN returns\n",
        "  start_date = datetime.datetime(2006, 1, 1)\n",
        "  end_date = datetime.datetime(2015, 12, 31)\n",
        "  # Obtain and plot the logarithmic returns of Amazon prices\n",
        "  amzn_df = obtain_plot_amazon_prices_dataframe(start_date, end_date)\n",
        "  log_returns = np.array(amzn_df[\"log_returns\"])\n",
        "  # Configure the stochastic volatility model and carry out\n",
        "  # MCMC sampling using NUTS, plotting the trace\n",
        "  samples = 2000\n",
        "  configure_sample_stoch_vol_model(log_returns, samples)"
      ],
      "execution_count": null,
      "outputs": [
        {
          "output_type": "stream",
          "text": [
            "Downloading and plotting AMZN log returns...\n"
          ],
          "name": "stdout"
        },
        {
          "output_type": "display_data",
          "data": {
            "image/png": "[encoded data removed]",
            "text/plain": [
              "<Figure size 432x288 with 1 Axes>"
            ]
          },
          "metadata": {
            "tags": [],
            "needs_background": "light"
          }
        },
        {
          "output_type": "stream",
          "text": [
            "Configuring stochastic volatility with PyMC3...\n"
          ],
          "name": "stdout"
        },
        {
          "output_type": "stream",
          "text": [
            "Auto-assigning NUTS sampler...\n",
            "Initializing NUTS using jitter+adapt_diag...\n"
          ],
          "name": "stderr"
        },
        {
          "output_type": "stream",
          "text": [
            "Fitting the stochastic volatility model...\n"
          ],
          "name": "stdout"
        }
      ]
    },
    {
      "cell_type": "code",
      "metadata": {
        "id": "gztHPDLOBbuY",
        "colab_type": "code",
        "colab": {}
      },
      "source": [
        ""
      ],
      "execution_count": null,
      "outputs": []
    }
  ]
}