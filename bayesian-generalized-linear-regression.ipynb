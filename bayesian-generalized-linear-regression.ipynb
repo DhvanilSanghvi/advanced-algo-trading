{
  "nbformat": 4,
  "nbformat_minor": 0,
  "metadata": {
    "colab": {
      "name": "Untitled1.ipynb",
      "provenance": [],
      "authorship_tag": "ABX9TyOjvyWPSt6Z1TYsVpjwUwhO",
      "include_colab_link": true
    },
    "kernelspec": {
      "name": "python3",
      "display_name": "Python 3"
    }
  },
  "cells": [
    {
      "cell_type": "markdown",
      "metadata": {
        "id": "view-in-github",
        "colab_type": "text"
      },
      "source": [
        "<a href=\"https://colab.research.google.com/github/DhvanilSanghvi/advanced-algo-trading/blob/master/bayesian-generalized-linear-regression.ipynb\" target=\"_parent\"><img src=\"https://colab.research.google.com/assets/colab-badge.svg\" alt=\"Open In Colab\"/></a>"
      ]
    },
    {
      "cell_type": "code",
      "metadata": {
        "id": "8eF_DNZIl6Vu",
        "colab_type": "code",
        "colab": {
          "base_uri": "https://localhost:8080/",
          "height": 70
        },
        "outputId": "512939de-6bd2-4489-ae28-3292ec5672ae"
      },
      "source": [
        "import numpy as np\n",
        "import pandas as pd\n",
        "import seaborn as sns"
      ],
      "execution_count": 1,
      "outputs": [
        {
          "output_type": "stream",
          "text": [
            "/usr/local/lib/python3.6/dist-packages/statsmodels/tools/_testing.py:19: FutureWarning: pandas.util.testing is deprecated. Use the functions in the public API at pandas.testing instead.\n",
            "  import pandas.util.testing as tm\n"
          ],
          "name": "stderr"
        }
      ]
    },
    {
      "cell_type": "code",
      "metadata": {
        "id": "wnbcnf7LmAPb",
        "colab_type": "code",
        "colab": {}
      },
      "source": [
        "sns.set(style=\"darkgrid\", palette=\"muted\")\n",
        "\n",
        "def simulate_linear_data(N, beta_0, beta_1, eps_sigma_sq):\n",
        "  df = pd.DataFrame(\n",
        "    {\"x\":\n",
        "      np.random.RandomState(42).choice(\n",
        "        map(\n",
        "          lambda x: float(x)/100.0,\n",
        "          np.arange(100)\n",
        "        ), N, replace=False\n",
        "      )\n",
        "    }\n",
        "  )\n",
        "  eps_mean = 0.0\n",
        "  df[\"y\"] = beta_0 + beta_1*df[\"x\"] + np.random.RandomState(42).normal(\n",
        "    eps_mean, eps_sigma_sq, N\n",
        "  )\n",
        "  return df\n",
        "\n",
        "if __name__ == \"__main__\":\n",
        "  beta_0 = 1.0\n",
        "  beta_1 = 2.0\n",
        "  N = 100\n",
        "  eps_sigma_sq = 0.5\n",
        "  df = simulate_linear_data(N, beta_0, beta_1, eps_sigma_sq)\n",
        "  sns.lmplot(x=\"x\", y=\"y\", data=df, size=10)\n",
        "  plt.xlim(0.0, 1.0)"
      ],
      "execution_count": null,
      "outputs": []
    },
    {
      "cell_type": "code",
      "metadata": {
        "id": "cYPuWrxLobb1",
        "colab_type": "code",
        "colab": {}
      },
      "source": [
        "import pymc3 as pm\n",
        "\n",
        "def glm_mcmc_inference(df, iterations=5000):\n",
        "  \"\"\"\n",
        "  Calculates the Markov Chain Monte Carlo trace of\n",
        "  a Generalised Linear Model Bayesian linear regression\n",
        "  model on supplied data.\n",
        "  df: DataFrame containing the data\n",
        "  iterations: Number of iterations to carry out MCMC for\n",
        "  \"\"\"\n",
        "  baisc_model = pm.Model()\n",
        "  with basic_model:\n",
        "    # Create the glm using the Patsy model syntax\n",
        "    # We use a Normal distribution for the likelihood\n",
        "    pm.glm.glm(\"y ~ x\", df, family=pm.glm.families.Normal())\n",
        "    # Use Maximum A Posteriori (MAP) optimisation\n",
        "    # as initial value for MCMC\n",
        "    start = pm.find_MAP()\n",
        "    step = pm.NUTS()\n",
        "    trace = pm.sample(\n",
        "        iterations, step, start,\n",
        "        random_seed=42, progressbar = True\n",
        "    )\n",
        "\n",
        "    return trace\n",
        "\n",
        "if __name__ == \"__main__\":\n",
        "  beta_0 = 1.0\n",
        "  beta_1 = 2.0\n",
        "  N = 100\n",
        "  eps_sigma_sq = 0.5\n",
        "  df = simulate_linear_data(N, beta_0, beta_1, eps_sigma_sq)\n",
        "  sns.lmplot(x=\"x\", y=\"y\", data=df, size=10)\n",
        "  plt.xlim(0.0, 1.0)\n",
        "  trace = glm_mcmc_inference(df, iterations=5000)\n",
        "  pm.traceplot(trace[500:])\n",
        "  plt.show()\n",
        "  # Plot a sample of posterior regression lines\n",
        "  sns.lmplot(x=\"x\", y=\"y\", data=df, size=10, fit_reg=False)\n",
        "  plt.xlim(0.0, 1.0)\n",
        "  plt.ylim(0.0, 4.0)\n",
        "  pm.glm.plot_posterior_predictive(trace, samples=100)\n",
        "  x = np.linspace(0, 1, N)\n",
        "  y = beta_0 + beta_1*x\n",
        "  plt.plot(x, y, label=\"True Regression Line\", lw=3., c=\"green\")\n",
        "  plt.legend(loc=0)\n",
        "  plt.show()\n"
      ],
      "execution_count": null,
      "outputs": []
    },
    {
      "cell_type": "code",
      "metadata": {
        "id": "IA9Tdaq7pmNf",
        "colab_type": "code",
        "colab": {}
      },
      "source": [
        ""
      ],
      "execution_count": null,
      "outputs": []
    }
  ]
}